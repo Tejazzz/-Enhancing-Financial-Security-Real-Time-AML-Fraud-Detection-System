{
 "cells": [
  {
   "cell_type": "markdown",
   "id": "90a74dac",
   "metadata": {},
   "source": [
    "## Data Import Required Libraries"
   ]
  },
  {
   "cell_type": "markdown",
   "id": "93f1c39e",
   "metadata": {},
   "source": [
    "### Import Required Libraries"
   ]
  },
  {
   "cell_type": "code",
   "execution_count": 1,
   "id": "e2f12a62",
   "metadata": {},
   "outputs": [],
   "source": [
    "import pyspark.sql.functions as F\n",
    "from pyspark.sql import SparkSession\n",
    "from pyspark.ml.feature import StringIndexer\n",
    "from pyspark.ml.stat import Correlation\n",
    "from pyspark.ml import Pipeline\n",
    "from pyspark.sql.functions import *\n",
    "from pyspark.sql.functions import col, avg, count, corr, month, year, to_timestamp\n",
    "import pandas as pd\n",
    "import matplotlib.pyplot as plt\n",
    "from pyspark.sql.window import Window\n",
    "from pyspark.sql.types import StructType, StructField, TimestampType, StringType, DoubleType, IntegerType"
   ]
  },
  {
   "cell_type": "markdown",
   "id": "aacbc8b2",
   "metadata": {},
   "source": [
    "### Define Schema and Import Data From Dataset"
   ]
  },
  {
   "cell_type": "code",
   "execution_count": 2,
   "id": "a7e9d919",
   "metadata": {},
   "outputs": [
    {
     "name": "stderr",
     "output_type": "stream",
     "text": [
      "Setting default log level to \"WARN\".\n",
      "To adjust logging level use sc.setLogLevel(newLevel). For SparkR, use setLogLevel(newLevel).\n",
      "23/12/10 02:27:11 WARN NativeCodeLoader: Unable to load native-hadoop library for your platform... using builtin-java classes where applicable\n"
     ]
    }
   ],
   "source": [
    "%%capture --no-stderr\n",
    "\n",
    "# Create a Spark session\n",
    "spark = SparkSession.builder.appName(\"FraudDetection\").getOrCreate()\n",
    "spark.sparkContext.setLogLevel(\"ERROR\")\n",
    "\n",
    "# Define the schema\n",
    "custom_schema = StructType([\n",
    "    StructField(\"Timestamp\", StringType(), nullable=True),\n",
    "    StructField(\"FromBank\", IntegerType(), nullable=True),\n",
    "    StructField(\"FromAccount\", StringType(), nullable=True),\n",
    "    StructField(\"ToBank\", IntegerType(), nullable=True),\n",
    "    StructField(\"ToAccount\", StringType(), nullable=True),\n",
    "    StructField(\"AmountReceived\", DoubleType(), nullable=True),\n",
    "    StructField(\"ReceivingCurrency\", StringType(), nullable=True),\n",
    "    StructField(\"AmountPaid\", DoubleType(), nullable=True),\n",
    "    StructField(\"PaymentCurrency\", StringType(), nullable=True),\n",
    "    StructField(\"PaymentFormat\", StringType(), nullable=True),\n",
    "    StructField(\"IsLaundering\", IntegerType(), nullable=True)\n",
    "])\n",
    "\n",
    "# Load the CSV file into a DataFrame with the specified schema\n",
    "file_path = \"HI-Small_Trans.csv\"\n",
    "df = spark.read.csv(file_path, header=True, schema=custom_schema)\n",
    "\n",
    "# Register the DataFrame as a temporary SQL table\n",
    "df.createOrReplaceTempView(\"transactions\")"
   ]
  },
  {
   "cell_type": "markdown",
   "id": "2a4dd6af",
   "metadata": {},
   "source": [
    "### Convert string data in 'Timestamp' column to timestamp datatype"
   ]
  },
  {
   "cell_type": "code",
   "execution_count": 3,
   "id": "0013b2ab",
   "metadata": {},
   "outputs": [
    {
     "name": "stdout",
     "output_type": "stream",
     "text": [
      "root\n",
      " |-- Timestamp: timestamp (nullable = true)\n",
      " |-- FromBank: integer (nullable = true)\n",
      " |-- FromAccount: string (nullable = true)\n",
      " |-- ToBank: integer (nullable = true)\n",
      " |-- ToAccount: string (nullable = true)\n",
      " |-- AmountReceived: double (nullable = true)\n",
      " |-- ReceivingCurrency: string (nullable = true)\n",
      " |-- AmountPaid: double (nullable = true)\n",
      " |-- PaymentCurrency: string (nullable = true)\n",
      " |-- PaymentFormat: string (nullable = true)\n",
      " |-- IsLaundering: integer (nullable = true)\n",
      "\n"
     ]
    }
   ],
   "source": [
    "from pyspark.sql.functions import to_timestamp\n",
    "\n",
    "# Assuming \"timestamp_str\" is the column containing the timestamp string\n",
    "df = df.withColumn(\"Timestamp\", to_timestamp(\"Timestamp\", \"yyyy/MM/dd HH:mm\"))\n",
    "\n",
    "# Show the DataFrame schema with the new timestamp column\n",
    "df.printSchema()"
   ]
  },
  {
   "cell_type": "markdown",
   "id": "f57ef162",
   "metadata": {},
   "source": [
    "### Standardize AmountReceived and AmountPaid Columns"
   ]
  },
  {
   "cell_type": "code",
   "execution_count": 4,
   "id": "6c38efc5",
   "metadata": {},
   "outputs": [],
   "source": [
    "import pandas as pd\n",
    "\n",
    "# Define the exchange rates data\n",
    "exchange_rates_data = [\n",
    "    {\"Currency\": \"Yen\", \"ExchangeRateToUSD\": 0.0069},\n",
    "    {\"Currency\": \"UK Pound\", \"ExchangeRateToUSD\": 1.234},\n",
    "    {\"Currency\": \"Australian Dollar\", \"ExchangeRateToUSD\": 0.704},\n",
    "    {\"Currency\": \"Saudi Riyal\", \"ExchangeRateToUSD\": 0.267},\n",
    "    {\"Currency\": \"Mexican Peso\", \"ExchangeRateToUSD\": 0.050},\n",
    "    {\"Currency\": \"Shekel\", \"ExchangeRateToUSD\": 0.300},\n",
    "    {\"Currency\": \"Yuan\", \"ExchangeRateToUSD\": 0.147},\n",
    "    {\"Currency\": \"Canadian Dollar\", \"ExchangeRateToUSD\": 0.754},\n",
    "    {\"Currency\": \"Euro\", \"ExchangeRateToUSD\": 1.045},\n",
    "    {\"Currency\": \"Rupee\", \"ExchangeRateToUSD\": 0.012},\n",
    "    {\"Currency\": \"Swiss Franc\", \"ExchangeRateToUSD\": 1.028},\n",
    "    {\"Currency\": \"US Dollar\", \"ExchangeRateToUSD\": 1.0},\n",
    "    {\"Currency\": \"Brazil Real\", \"ExchangeRateToUSD\": 0.191},\n",
    "    {\"Currency\": \"Bitcoin\", \"ExchangeRateToUSD\": 16386},\n",
    "    {\"Currency\": \"Ruble\", \"ExchangeRateToUSD\": 0.013},\n",
    "]\n",
    "\n",
    "# Create the exchange_rates_df DataFrame in Pandas\n",
    "exchange_rates_df = pd.DataFrame(exchange_rates_data)\n"
   ]
  },
  {
   "cell_type": "code",
   "execution_count": 5,
   "id": "286294b7",
   "metadata": {},
   "outputs": [
    {
     "name": "stderr",
     "output_type": "stream",
     "text": [
      "/opt/conda/envs/csgy-6513d-fall2023/lib/python3.9/site-packages/pyspark/sql/pandas/conversion.py:485: FutureWarning: is_datetime64tz_dtype is deprecated and will be removed in a future version. Check `isinstance(dtype, pd.DatetimeTZDtype)` instead.\n",
      "  if should_localize and is_datetime64tz_dtype(s.dtype) and s.dt.tz is not None:\n"
     ]
    },
    {
     "name": "stdout",
     "output_type": "stream",
     "text": [
      "root\n",
      " |-- Timestamp: timestamp (nullable = true)\n",
      " |-- FromBank: integer (nullable = true)\n",
      " |-- FromAccount: string (nullable = true)\n",
      " |-- ToBank: integer (nullable = true)\n",
      " |-- ToAccount: string (nullable = true)\n",
      " |-- AmountReceived: double (nullable = true)\n",
      " |-- ReceivingCurrency: string (nullable = true)\n",
      " |-- AmountReceivedUSD: double (nullable = true)\n",
      " |-- AmountPaid: double (nullable = true)\n",
      " |-- PaymentCurrency: string (nullable = true)\n",
      " |-- AmountPaidUSD: double (nullable = true)\n",
      " |-- PaymentFormat: string (nullable = true)\n",
      " |-- IsLaundering: integer (nullable = true)\n",
      "\n"
     ]
    }
   ],
   "source": [
    "from pyspark.sql.functions import col\n",
    "\n",
    "exchange_rates_df = spark.createDataFrame(exchange_rates_df)\n",
    "\n",
    "# Assuming df is your original DataFrame\n",
    "# Assuming exchange_rates_df is another DataFrame with columns Currency, ExchangeRateToUSD\n",
    "\n",
    "# Join the original DataFrame with exchange rates DataFrame for ReceivingCurrency\n",
    "df_with_receiving_rate = df.join(\n",
    "    exchange_rates_df.withColumnRenamed(\"Currency\", \"RecCurrency\") \\\n",
    "                    .withColumnRenamed(\"ExchangeRateToUSD\", \"ReceivingExchangeRate\"),\n",
    "    col(\"RecCurrency\") == col(\"ReceivingCurrency\")  # Assuming the original column name in df is ReceivingCurrencyOriginal\n",
    ")\n",
    "\n",
    "# Join the resulting DataFrame with exchange rates DataFrame for PaymentCurrency\n",
    "df_with_rates = df_with_receiving_rate.join(\n",
    "    exchange_rates_df.withColumnRenamed(\"Currency\", \"PayCurrency\") \\\n",
    "                    .withColumnRenamed(\"ExchangeRateToUSD\", \"PaymentExchangeRate\"),\n",
    "    col(\"PayCurrency\") == col(\"PaymentCurrency\")  # Assuming the original column name in df is PaymentCurrencyOriginal\n",
    ")\n",
    "\n",
    "# Convert AmountReceived and AmountPaid to USD based on exchange rates\n",
    "currency_converted_df = df_with_rates.withColumn(\"AmountReceivedUSD\", col(\"AmountReceived\") * col(\"ReceivingExchangeRate\"))\n",
    "currency_converted_df = currency_converted_df.withColumn(\"AmountPaidUSD\", col(\"AmountPaid\") * col(\"PaymentExchangeRate\"))\n",
    "\n",
    "# Select the relevant columns\n",
    "currency_converted_df = currency_converted_df.select(\"Timestamp\", \"FromBank\", \"FromAccount\", \"ToBank\", \"ToAccount\",\n",
    "                                                     \"AmountReceived\", \"ReceivingCurrency\", \"AmountReceivedUSD\",\n",
    "                                                     \"AmountPaid\", \"PaymentCurrency\", \"AmountPaidUSD\",\n",
    "                                                     \"PaymentFormat\", \"IsLaundering\")\n",
    "\n",
    "# Show the resulting DataFrame Schema\n",
    "df = currency_converted_df\n",
    "\n",
    "df.printSchema()"
   ]
  },
  {
   "cell_type": "markdown",
   "id": "54e93791",
   "metadata": {},
   "source": [
    "## 3. Transaction Network Analysis"
   ]
  },
  {
   "cell_type": "markdown",
   "id": "cdcb2329",
   "metadata": {},
   "source": [
    "### 3.1 Which are the accounts with suspicious transaction spikes in the entire dataset?"
   ]
  },
  {
   "cell_type": "code",
   "execution_count": 6,
   "id": "45adeb2f",
   "metadata": {},
   "outputs": [
    {
     "name": "stderr",
     "output_type": "stream",
     "text": [
      "                                                                                \r"
     ]
    },
    {
     "name": "stdout",
     "output_type": "stream",
     "text": [
      "+---------+-------------------+-----------------+---------+\n",
      "|ToAccount|          Timestamp|previous_accounts|hop_count|\n",
      "+---------+-------------------+-----------------+---------+\n",
      "|800051110|2022-09-07 20:02:00|      [811B6E170]|        1|\n",
      "|800051110|2022-09-08 06:18:00|      [811A4DBD0]|        1|\n",
      "|800051110|2022-09-10 15:19:00|      [8000E1590]|        1|\n",
      "|800054B70|2022-09-03 08:47:00|      [8001FE5D0]|        1|\n",
      "|800054B70|2022-09-08 02:28:00|      [80012E0B0]|        1|\n",
      "+---------+-------------------+-----------------+---------+\n",
      "only showing top 5 rows\n",
      "\n"
     ]
    },
    {
     "name": "stderr",
     "output_type": "stream",
     "text": [
      "/opt/conda/envs/csgy-6513d-fall2023/lib/python3.9/site-packages/pyspark/sql/pandas/types.py:563: FutureWarning: is_datetime64tz_dtype is deprecated and will be removed in a future version. Check `isinstance(dtype, pd.DatetimeTZDtype)` instead.\n",
      "  if not is_datetime64tz_dtype(pser.dtype):\n",
      "/opt/conda/envs/csgy-6513d-fall2023/lib/python3.9/site-packages/pyspark/sql/pandas/types.py:379: FutureWarning: is_datetime64tz_dtype is deprecated and will be removed in a future version. Check `isinstance(dtype, pd.DatetimeTZDtype)` instead.\n",
      "  if is_datetime64tz_dtype(s.dtype):\n"
     ]
    },
    {
     "data": {
      "image/png": "[encoded data removed]",
      "text/plain": [
       "<Figure size 1000x600 with 1 Axes>"
      ]
     },
     "metadata": {},
     "output_type": "display_data"
    }
   ],
   "source": [
    "from pyspark.sql import Window\n",
    "from pyspark.sql.functions import lag, col, collect_list, size\n",
    "import seaborn as sns\n",
    "import matplotlib.pyplot as plt\n",
    "\n",
    "# Define the window specification\n",
    "chain_window = Window.partitionBy(\"ToAccount\").orderBy(\"Timestamp\")\n",
    "\n",
    "# Calculate previous accounts and count the number of hops\n",
    "chains_df = df.filter(\"IsLaundering = 1\") \\\n",
    "              .withColumn(\"prev_account\", lag(\"FromAccount\", 1).over(chain_window)) \\\n",
    "              .filter(\"prev_account is not null\") \\\n",
    "              .groupBy(\"ToAccount\", \"Timestamp\") \\\n",
    "              .agg(collect_list(\"prev_account\").alias(\"previous_accounts\"))\n",
    "\n",
    "# Add a new column for hop count\n",
    "chains_df = chains_df.withColumn(\"hop_count\", size(\"previous_accounts\"))\n",
    "\n",
    "# Sort the DataFrame by hop_count in descending order\n",
    "chains_df = chains_df.orderBy(\"hop_count\", ascending=False)\n",
    "\n",
    "# Show the top 5 records\n",
    "chains_df.show(5)\n",
    "\n",
    "# Visualize using Seaborn and Matplotlib\n",
    "plt.figure(figsize=(10, 6))\n",
    "sns.countplot(data=chains_df.toPandas(), x=\"hop_count\")\n",
    "plt.title('Number of Hops in Laundering Transaction Chains')\n",
    "plt.xlabel('Number of Hops')\n",
    "plt.ylabel('Count')\n",
    "plt.show()\n",
    "\n"
   ]
  },
  {
   "cell_type": "markdown",
   "id": "10b291f9",
   "metadata": {},
   "source": [
    "## 4. Model Building"
   ]
  },
  {
   "cell_type": "markdown",
   "id": "769f7f87",
   "metadata": {},
   "source": [
    "### 4.1 Up-sample minority class"
   ]
  },
  {
   "cell_type": "code",
   "execution_count": 7,
   "id": "4bb10da8",
   "metadata": {},
   "outputs": [],
   "source": [
    "laundering_df = df.filter(\"IsLaundering = 1\")\n",
    "\n",
    "# Create a 40% sample of the laundering_df DataFrame\n",
    "sampled_laundering_df = laundering_df.sample(False, 0.4, seed=42)\n",
    "\n",
    "# Union the original DataFrame with the sampled laundering DataFrame\n",
    "balanced_df = df.union(sampled_laundering_df)"
   ]
  },
  {
   "cell_type": "code",
   "execution_count": 8,
   "id": "384d354e",
   "metadata": {},
   "outputs": [],
   "source": [
    "\n",
    "# Show the first few rows of the resulting DataFrame\n",
    "#balanced_df.count()"
   ]
  },
  {
   "cell_type": "markdown",
   "id": "12057fd4",
   "metadata": {},
   "source": [
    "### 4.2 Down-sample majority class"
   ]
  },
  {
   "cell_type": "code",
   "execution_count": 9,
   "id": "9bf4f644",
   "metadata": {},
   "outputs": [],
   "source": [
    "# Create a negative sample (non-laundering transactions) with a 10% sample rate\n",
    "neg_df = df.filter(\"IsLaundering = 0\").sample(False, 0.1, seed=42)\n",
    "\n",
    "# Union the original laundering transactions with the negative sample\n",
    "balanced_df = laundering_df.union(neg_df)\n"
   ]
  },
  {
   "cell_type": "code",
   "execution_count": 10,
   "id": "b3d8fe84",
   "metadata": {},
   "outputs": [],
   "source": [
    "# Show the first few rows of the resulting DataFrame\n",
    "#balanced_df.count()"
   ]
  },
  {
   "cell_type": "markdown",
   "id": "83cfd44d",
   "metadata": {},
   "source": [
    "### Split Data into Training and Testing Sets\n"
   ]
  },
  {
   "cell_type": "code",
   "execution_count": 30,
   "id": "53fea97b",
   "metadata": {},
   "outputs": [],
   "source": [
    "(train_df, test_df) = balanced_df.randomSplit([0.75, 0.25], seed=42)"
   ]
  },
  {
   "cell_type": "code",
   "execution_count": 15,
   "id": "c9c2cda2",
   "metadata": {},
   "outputs": [],
   "source": [
    "#train_df.count()"
   ]
  },
  {
   "cell_type": "code",
   "execution_count": 31,
   "id": "da626e22",
   "metadata": {},
   "outputs": [
    {
     "name": "stderr",
     "output_type": "stream",
     "text": [
      "                                                                                \r"
     ]
    }
   ],
   "source": [
    "from pyspark.ml.feature import VectorAssembler, StringIndexer\n",
    "from pyspark.ml.classification import LogisticRegression\n",
    "\n",
    "# List of categorical columns\n",
    "categorical_columns = [\"ReceivingCurrency\", \"PaymentCurrency\", \"PaymentFormat\"]\n",
    "\n",
    "# StringIndexer stages for handling categorical columns\n",
    "indexers_train = [StringIndexer(inputCol=col, outputCol=f\"{col}_index\").fit(train_df) for col in categorical_columns]\n",
    "indexers_test = [StringIndexer(inputCol=col, outputCol=f\"{col}_index\").fit(test_df) for col in categorical_columns]"
   ]
  },
  {
   "cell_type": "code",
   "execution_count": 32,
   "id": "0104db2e",
   "metadata": {},
   "outputs": [],
   "source": [
    "# Feature columns including the newly created indices\n",
    "exclude_columns = [\"Timestamp\", \"FromAccount\", \"ToAccount\"]\n",
    "all_columns = balanced_df.columns\n",
    "feature_columns = [f\"{col}_index\" if col in categorical_columns else col for col in all_columns if col not in exclude_columns]\n",
    "\n",
    "# Include IsLaundering in the feature columns\n",
    "feature_columns.append(\"IsLaundering\")\n",
    "\n",
    "# Apply StringIndexer transformations for training data\n",
    "for indexer in indexers_train:\n",
    "    train_df = indexer.transform(train_df)\n",
    "\n",
    "# Feature vector assembly for training data\n",
    "vector_assembler_train = VectorAssembler(inputCols=feature_columns, outputCol=\"features\")\n",
    "assembler_train_df = vector_assembler_train.transform(train_df)\n",
    "\n",
    "# Drop original categorical columns and IsLaundering for training data\n",
    "assembler_train_df = assembler_train_df.drop(*categorical_columns)\n",
    "\n"
   ]
  },
  {
   "cell_type": "code",
   "execution_count": 33,
   "id": "abf06d4c",
   "metadata": {},
   "outputs": [],
   "source": [
    "# Apply StringIndexer transformations for test data\n",
    "for indexer in indexers_test:\n",
    "    test_df = indexer.transform(test_df)\n",
    "\n",
    "# Feature vector assembly for test data\n",
    "vector_assembler_test = VectorAssembler(inputCols=feature_columns, outputCol=\"features\")\n",
    "assembler_test_df = vector_assembler_test.transform(test_df)\n",
    "\n",
    "# Drop original categorical columns and IsLaundering for test data\n",
    "assembler_test_df = assembler_test_df.drop(*categorical_columns)\n"
   ]
  },
  {
   "cell_type": "code",
   "execution_count": 19,
   "id": "8bfbd9cd",
   "metadata": {},
   "outputs": [
    {
     "name": "stderr",
     "output_type": "stream",
     "text": [
      "[Stage 526:=============================================>           (4 + 1) / 5]\r"
     ]
    }
   ],
   "source": [
    "# Logistic Regression model\n",
    "lr = LogisticRegression(featuresCol=\"features\", labelCol=\"IsLaundering\")\n",
    "model = lr.fit(assembler_train_df)\n"
   ]
  },
  {
   "cell_type": "code",
   "execution_count": 20,
   "id": "d8ea4da5",
   "metadata": {},
   "outputs": [
    {
     "name": "stderr",
     "output_type": "stream",
     "text": [
      "                                                                                \r"
     ]
    }
   ],
   "source": [
    "# Specify the path where you want to save the model\n",
    "model_path = \"logistic_regression_model\"\n",
    "\n",
    "# Save the model\n",
    "model.save(model_path)"
   ]
  },
  {
   "cell_type": "code",
   "execution_count": 22,
   "id": "7b08ae80",
   "metadata": {},
   "outputs": [],
   "source": [
    "from pyspark.ml.classification import LogisticRegressionModel\n",
    "\n",
    "# Load the saved model\n",
    "loaded_model = LogisticRegressionModel.load(model_path)"
   ]
  },
  {
   "cell_type": "code",
   "execution_count": 24,
   "id": "f0fc999f",
   "metadata": {},
   "outputs": [
    {
     "data": {
      "text/plain": [
       "['Timestamp',\n",
       " 'FromBank',\n",
       " 'FromAccount',\n",
       " 'ToBank',\n",
       " 'ToAccount',\n",
       " 'AmountReceived',\n",
       " 'AmountReceivedUSD',\n",
       " 'AmountPaid',\n",
       " 'AmountPaidUSD',\n",
       " 'IsLaundering',\n",
       " 'ReceivingCurrency_index',\n",
       " 'PaymentCurrency_index',\n",
       " 'PaymentFormat_index',\n",
       " 'features']"
      ]
     },
     "execution_count": 24,
     "metadata": {},
     "output_type": "execute_result"
    }
   ],
   "source": [
    "assembler_train_df.columns"
   ]
  },
  {
   "cell_type": "code",
   "execution_count": 34,
   "id": "10e36b20",
   "metadata": {},
   "outputs": [
    {
     "name": "stderr",
     "output_type": "stream",
     "text": [
      "                                                                                \r"
     ]
    },
    {
     "name": "stdout",
     "output_type": "stream",
     "text": [
      "Area Under ROC (AUC): 0.9999881043571729\n"
     ]
    }
   ],
   "source": [
    "from pyspark.ml.evaluation import BinaryClassificationEvaluator\n",
    "\n",
    "# Assuming you have a labeled test dataset with a column named \"label\"\n",
    "# Replace 'test_df' with your actual test dataset\n",
    "test_df = assembler_test_df\n",
    "\n",
    "# Make predictions on the test set using the loaded model\n",
    "predictions = loaded_model.transform(test_df)\n",
    "\n",
    "# Create a BinaryClassificationEvaluator\n",
    "evaluator = BinaryClassificationEvaluator(rawPredictionCol=\"rawPrediction\", labelCol=\"IsLaundering\", metricName=\"areaUnderROC\")\n",
    "\n",
    "# Evaluate the model and get the AUC score\n",
    "auc_score = evaluator.evaluate(predictions)\n",
    "print(f\"Area Under ROC (AUC): {auc_score}\")\n"
   ]
  },
  {
   "cell_type": "code",
   "execution_count": 35,
   "id": "8dc7b89c",
   "metadata": {},
   "outputs": [
    {
     "name": "stderr",
     "output_type": "stream",
     "text": [
      "[Stage 720:===============================================>         (5 + 1) / 6]\r"
     ]
    },
    {
     "name": "stdout",
     "output_type": "stream",
     "text": [
      "F1 Score: 1.0\n"
     ]
    },
    {
     "name": "stderr",
     "output_type": "stream",
     "text": [
      "                                                                                \r"
     ]
    }
   ],
   "source": [
    "# Penalize algorithms based on sensitivity\n",
    "\n",
    "from pyspark.ml.evaluation import MulticlassClassificationEvaluator\n",
    "\n",
    "# Assuming you have a labeled test dataset with a column named \"label\"\n",
    "# Replace 'test_df' with your actual test dataset\n",
    "test_df = assembler_test_df\n",
    "\n",
    "# Make predictions on the test set using the loaded model\n",
    "predictions = loaded_model.transform(test_df)\n",
    "\n",
    "# Create a MulticlassClassificationEvaluator\n",
    "evaluator = MulticlassClassificationEvaluator(predictionCol=\"prediction\", labelCol=\"IsLaundering\", metricName=\"f1\")\n",
    "\n",
    "# Evaluate the model and get the F1 score\n",
    "f1_score = evaluator.evaluate(predictions)\n",
    "print(f\"F1 Score: {f1_score}\")\n"
   ]
  },
  {
   "cell_type": "code",
   "execution_count": 38,
   "id": "bca7d944",
   "metadata": {
    "scrolled": true
   },
   "outputs": [
    {
     "name": "stderr",
     "output_type": "stream",
     "text": [
      "                                                                                \r"
     ]
    }
   ],
   "source": [
    "from pyspark.ml import Pipeline  \n",
    "from pyspark.ml.classification import GBTClassifier\n",
    "\n",
    "gbt = GBTClassifier(labelCol=\"IsLaundering\", featuresCol=\"features\", maxIter=5)\n",
    "pipeline = Pipeline(stages=[gbt])  \n",
    "\n",
    "gbt_model = pipeline.fit(assembler_train_df)"
   ]
  },
  {
   "cell_type": "code",
   "execution_count": 45,
   "id": "c3c2b5b5",
   "metadata": {},
   "outputs": [],
   "source": [
    "gbt_model.save(\"gbt_model_5_iter\")"
   ]
  },
  {
   "cell_type": "markdown",
   "id": "2ecfc1c7",
   "metadata": {},
   "source": [
    "#### The GBTClassifier in PySpark does not have a direct parameter for the number of epochs like some other machine learning libraries. Instead, it uses the maxIter parameter to control the maximum number of iterations (trees) in the ensemble. If you want to simulate the concept of epochs in the context of a gradient-boosted tree model, you can set the maxIter parameter to the desired number of \"epochs.\" Each iteration (epoch) adds a new tree to the ensemble.\n",
    "\n"
   ]
  },
  {
   "cell_type": "code",
   "execution_count": 50,
   "id": "1d503340",
   "metadata": {},
   "outputs": [
    {
     "name": "stderr",
     "output_type": "stream",
     "text": [
      "[Stage 1452:============================================>           (4 + 1) / 5]\r"
     ]
    },
    {
     "name": "stdout",
     "output_type": "stream",
     "text": [
      "+----------+------------+\n",
      "|prediction|IsLaundering|\n",
      "+----------+------------+\n",
      "|       1.0|           1|\n",
      "|       1.0|           1|\n",
      "|       1.0|           1|\n",
      "|       1.0|           1|\n",
      "|       1.0|           1|\n",
      "|       1.0|           1|\n",
      "|       1.0|           1|\n",
      "|       1.0|           1|\n",
      "|       1.0|           1|\n",
      "|       1.0|           1|\n",
      "|       1.0|           1|\n",
      "|       1.0|           1|\n",
      "|       1.0|           1|\n",
      "|       1.0|           1|\n",
      "|       1.0|           1|\n",
      "|       1.0|           1|\n",
      "|       1.0|           1|\n",
      "|       1.0|           1|\n",
      "|       1.0|           1|\n",
      "|       1.0|           1|\n",
      "+----------+------------+\n",
      "only showing top 20 rows\n",
      "\n"
     ]
    },
    {
     "name": "stderr",
     "output_type": "stream",
     "text": [
      "                                                                                \r"
     ]
    }
   ],
   "source": [
    "from pyspark.ml import PipelineModel\n",
    "\n",
    "# Load the GBT model\n",
    "loaded_gbt_model = PipelineModel.load(\"gbt_model_5_iter\")\n",
    "\n",
    "# Now, you can use the loaded_gbt_model for predictions on new data\n",
    "gbt_predictions = loaded_gbt_model.transform(assembler_test_df)\n",
    "\n",
    "# Show the predictions\n",
    "gbt_predictions.select(\"prediction\", \"IsLaundering\").show()"
   ]
  },
  {
   "cell_type": "code",
   "execution_count": 51,
   "id": "d015497b",
   "metadata": {},
   "outputs": [
    {
     "name": "stderr",
     "output_type": "stream",
     "text": [
      "                                                                                \r"
     ]
    },
    {
     "name": "stdout",
     "output_type": "stream",
     "text": [
      "ROC AUC: 1.0\n"
     ]
    },
    {
     "name": "stderr",
     "output_type": "stream",
     "text": [
      "[Stage 1513:==============================================>         (5 + 1) / 6]\r"
     ]
    },
    {
     "name": "stdout",
     "output_type": "stream",
     "text": [
      "F1 Score: 1.0\n"
     ]
    },
    {
     "name": "stderr",
     "output_type": "stream",
     "text": [
      "                                                                                \r"
     ]
    }
   ],
   "source": [
    "from pyspark.ml.evaluation import BinaryClassificationEvaluator, MulticlassClassificationEvaluator\n",
    "\n",
    "# Assuming 'predictions' is the DataFrame containing the predictions from your GBT model\n",
    "# Replace \"prediction\" with the actual column name where your model outputs the predictions\n",
    "# Replace \"IsLaundering\" with the actual column name where your labels are\n",
    "\n",
    "# ROC AUC\n",
    "binary_evaluator = BinaryClassificationEvaluator(labelCol=\"IsLaundering\", metricName=\"areaUnderROC\")\n",
    "roc_auc = binary_evaluator.evaluate(gbt_predictions)\n",
    "print(f\"ROC AUC: {roc_auc}\")\n",
    "\n",
    "# F1 Score\n",
    "multiclass_evaluator = MulticlassClassificationEvaluator(labelCol=\"IsLaundering\", metricName=\"f1\")\n",
    "f1_score = multiclass_evaluator.evaluate(gbt_predictions)\n",
    "print(f\"F1 Score: {f1_score}\")\n",
    "\n"
   ]
  },
  {
   "cell_type": "code",
   "execution_count": null,
   "id": "f00e4258",
   "metadata": {},
   "outputs": [],
   "source": []
  }
 ],
 "metadata": {
  "kernelspec": {
   "display_name": "Python [conda env:csgy-6513d-fall2023]",
   "language": "python",
   "name": "conda-env-csgy-6513d-fall2023-py"
  },
  "language_info": {
   "codemirror_mode": {
    "name": "ipython",
    "version": 3
   },
   "file_extension": ".py",
   "mimetype": "text/x-python",
   "name": "python",
   "nbconvert_exporter": "python",
   "pygments_lexer": "ipython3",
   "version": "3.9.18"
  }
 },
 "nbformat": 4,
 "nbformat_minor": 5
}
